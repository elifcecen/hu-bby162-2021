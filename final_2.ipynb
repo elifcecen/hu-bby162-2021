{
  "nbformat": 4,
  "nbformat_minor": 0,
  "metadata": {
    "colab": {
      "name": "final 2.ipynb",
      "provenance": [],
      "mount_file_id": "16ttYeMybwqT4xiGrWrurqnQ1XZvSpIVn",
      "authorship_tag": "ABX9TyP4GZIoOHTEdTt/yubtN1+x",
      "include_colab_link": true
    },
    "kernelspec": {
      "name": "python3",
      "display_name": "Python 3"
    },
    "language_info": {
      "name": "python"
    }
  },
  "cells": [
    {
      "cell_type": "markdown",
      "metadata": {
        "id": "view-in-github",
        "colab_type": "text"
      },
      "source": [
        "<a href=\"https://colab.research.google.com/github/elifcecen/hu-bby162-2021/blob/main/final_2.ipynb\" target=\"_parent\"><img src=\"https://colab.research.google.com/assets/colab-badge.svg\" alt=\"Open In Colab\"/></a>"
      ]
    },
    {
      "cell_type": "code",
      "metadata": {
        "colab": {
          "base_uri": "https://localhost:8080/"
        },
        "id": "cZUqHgASzE3F",
        "outputId": "d99a49b5-6e98-4cc3-ef90-d72795b95d78"
      },
      "source": [
        "\n",
        "print(\":: Kütüphane Kataloglama Sistemine Hoş Geldiniz ::\")\n",
        "dosya = \"/content/drive/MyDrive/final.txt\"\n",
        "\n",
        "def eserListele():\n",
        "  f = open(dosya, 'r')\n",
        "  for line in f.readlines():\n",
        "    print(line)\n",
        "  f.close()\n",
        "def eserKayıt():\n",
        "  eserAdi = input(\"Eser Adını Giriniz: \")\n",
        "  yazarAdi = input(\" Lutfen Eserin Yazarını Giriniz: \")\n",
        "  eserYayinevi = input(\" Lutfen Eserin Yayınevi Bilgisini Giriniz: \")\n",
        "  basımTarihi = input(\" Lutfen Eserin Basım Tarihi Bilgisini Giriniz: \")\n",
        "  eserIsbn = input(\"Lutfen Eserin ISBN Bilgilerini Giriniz: \")\n",
        "  f = open(dosya, 'a' )\n",
        "  f.write(eserAdi + \" , \" + yazarAdi + \" , \" + eserYayinevi + \" , \"  + basımTarihi + \",\"  + eserIsbn + '\\n')\n",
        "  print(\"Kayıt işleminiz başarıyla gerçekleştirilmiştir.\")\n",
        "  f.close()\n",
        "  \n",
        "islemSecme = [\"listele\", \"ekle\", \"sonlandır\"]\n",
        "while islemSecme:\n",
        "  girilen_islem = input(\"Lutfen katalogdaki eser listesini görüntülemek için 'listele' yazınız. \\n\" \n",
        "      \"Yeni eser kaydı eklemek için 'ekle' yazınız.\\n\"     \n",
        "      \"Sistemden çıkmak için 'sonlandır' yazınız.\\n\"\n",
        "      \"Yapmak istediğiniz işlem için ilgili kelimeyi yazınız: \")\n",
        "  if girilen_islem == islemSecme[0]:\n",
        "    eserListele()\n",
        "  elif girilen_islem == islemSecme[1]:\n",
        "      eserKayıt()\n",
        "  elif girilen_islem == islemSecme [2]:\n",
        "        print(\"sistemden çıkılıyor...\")\n",
        "        break"
      ],
      "execution_count": 7,
      "outputs": [
        {
          "output_type": "stream",
          "text": [
            ":: Kütüphane Kataloglama Sistemine Hoş Geldiniz ::\n",
            "Lutfen katalogdaki eser listesini görüntülemek için 'listele' yazınız. \n",
            "Yeni eser kaydı eklemek için 'ekle' yazınız.\n",
            "Sistemden çıkmak için 'sonlandır' yazınız.\n",
            "Yapmak istediğiniz işlem için ilgili kelimeyi yazınız: ekle\n",
            "Eser Adını Giriniz: gggg\n",
            " Lutfen Eserin Yazarını Giriniz: bbm\n",
            " Lutfen Eserin Yayınevi Bilgisini Giriniz: jjjjj\n",
            " Lutfen Eserin Basım Tarihi Bilgisini Giriniz: bnn\n",
            "Lutfen Eserin ISBN Bilgilerini Giriniz: nnnn\n",
            "Kayıt işleminiz başarıyla gerçekleştirilmiştir.\n",
            "Lutfen katalogdaki eser listesini görüntülemek için 'listele' yazınız. \n",
            "Yeni eser kaydı eklemek için 'ekle' yazınız.\n",
            "Sistemden çıkmak için 'sonlandır' yazınız.\n",
            "Yapmak istediğiniz işlem için ilgili kelimeyi yazınız: nnnn\n",
            "Lutfen katalogdaki eser listesini görüntülemek için 'listele' yazınız. \n",
            "Yeni eser kaydı eklemek için 'ekle' yazınız.\n",
            "Sistemden çıkmak için 'sonlandır' yazınız.\n",
            "Yapmak istediğiniz işlem için ilgili kelimeyi yazınız: bbbb\n",
            "Lutfen katalogdaki eser listesini görüntülemek için 'listele' yazınız. \n",
            "Yeni eser kaydı eklemek için 'ekle' yazınız.\n",
            "Sistemden çıkmak için 'sonlandır' yazınız.\n",
            "Yapmak istediğiniz işlem için ilgili kelimeyi yazınız: sonlandır\n",
            "sistemden çıkılıyor...\n"
          ],
          "name": "stdout"
        }
      ]
    }
  ]
}