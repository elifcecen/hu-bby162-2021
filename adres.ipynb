{
  "nbformat": 4,
  "nbformat_minor": 0,
  "metadata": {
    "colab": {
      "name": "adres.ipynb",
      "provenance": [],
      "mount_file_id": "1z-A0Dg0c0NbvrHHadXnLdHBFRYVI9iE5",
      "authorship_tag": "ABX9TyPQhtQSMXppei1m5EXGHCp1",
      "include_colab_link": true
    },
    "kernelspec": {
      "name": "python3",
      "display_name": "Python 3"
    },
    "language_info": {
      "name": "python"
    }
  },
  "cells": [
    {
      "cell_type": "markdown",
      "metadata": {
        "id": "view-in-github",
        "colab_type": "text"
      },
      "source": [
        "<a href=\"https://colab.research.google.com/github/elifcecen/hu-bby162-2021/blob/main/adres.ipynb\" target=\"_parent\"><img src=\"https://colab.research.google.com/assets/colab-badge.svg\" alt=\"Open In Colab\"/></a>"
      ]
    },
    {
      "cell_type": "markdown",
      "metadata": {
        "id": "oe4zBuLQ3rYL"
      },
      "source": [
        "BBY162 Programlama ve Algoritmalar Arasınav Proje Görevi"
      ]
    },
    {
      "cell_type": "code",
      "metadata": {
        "id": "RGWugy5I4LcU",
        "colab": {
          "base_uri": "https://localhost:8080/"
        },
        "outputId": "5ac292fc-6f12-4657-ff50-1b5e1df9a4ae"
      },
      "source": [
        "dosya = \"/content/drive/MyDrive/adres.txt\"\n",
        "adSoyad = input(\"Lütfen adınızı ve soyadınızı girin!:\") \n",
        "eposta = input(\"E-posta adresinizi giriniz:\")\n",
        "\n",
        "f = open(dosya,\"a\")\n",
        "f.write(adSoyad + \" / \" + eposta + \" / \")\n",
        "f.close()\n",
        "f = open(dosya, \"r\") \n",
        " \n",
        "for line in f.readlines():\n",
        "    print(line)\n",
        "f.close()"
      ],
      "execution_count": 9,
      "outputs": [
        {
          "output_type": "stream",
          "text": [
            "Lütfen adınızı ve soyadınızı girin!:Elif ÇEÇEN\n",
            "E-posta adresinizi giriniz:elifcecen2@gmail.com\n",
            "Elif ÇEÇEN / elifcecen2@gmail.com / Elif ÇEÇEN / elifcecen2@gmail.com / \n"
          ],
          "name": "stdout"
        }
      ]
    }
  ]
}