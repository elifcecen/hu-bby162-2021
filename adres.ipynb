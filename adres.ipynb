{
  "nbformat": 4,
  "nbformat_minor": 0,
  "metadata": {
    "colab": {
      "name": "adres.ipynb",
      "provenance": [],
      "mount_file_id": "1z-A0Dg0c0NbvrHHadXnLdHBFRYVI9iE5",
      "authorship_tag": "ABX9TyPRVTg2ONTgEX3c2vCPw3M4",
      "include_colab_link": true
    },
    "kernelspec": {
      "name": "python3",
      "display_name": "Python 3"
    },
    "language_info": {
      "name": "python"
    }
  },
  "cells": [
    {
      "cell_type": "markdown",
      "metadata": {
        "id": "view-in-github",
        "colab_type": "text"
      },
      "source": [
        "<a href=\"https://colab.research.google.com/github/elifcecen/hu-bby162-2021/blob/main/adres.ipynb\" target=\"_parent\"><img src=\"https://colab.research.google.com/assets/colab-badge.svg\" alt=\"Open In Colab\"/></a>"
      ]
    },
    {
      "cell_type": "code",
      "metadata": {
        "colab": {
          "base_uri": "https://localhost:8080/"
        },
        "id": "ZqCk43UGlKtb",
        "outputId": "5ab8a2b0-bb09-42ba-b718-1819bca4235b"
      },
      "source": [
        "dosya =\"/content/drive/MyDrive/adres.txt\"\n",
        "\n",
        "f = open(dosya, \"a\")\n",
        "bilgi = input(\"Bilgi Gir: \")\n",
        "\n",
        "f.write (bilgi+\"\\n\")\n",
        "f.close()\n",
        "\n",
        "f = open(dosya, \"r\")\n",
        "for line in f.readlines():\n",
        "  print(line)\n",
        "\n",
        "f.close()\n"
      ],
      "execution_count": 3,
      "outputs": [
        {
          "output_type": "stream",
          "text": [
            "Bilgi Gir: Elif çeçen elifcecen2@gmail.com\n",
            "\n",
            "\n",
            "Elif ÇEÇEN elifcecen2@gmail.com\n",
            "\n",
            "elif çeçen elifcecen2@gmail.com\n",
            "\n",
            "Elif çeçen elifcecen2@gmail.com\n",
            "\n"
          ],
          "name": "stdout"
        }
      ]
    }
  ]
}