{
  "nbformat": 4,
  "nbformat_minor": 0,
  "metadata": {
    "colab": {
      "name": "final .ipynb",
      "provenance": [],
      "mount_file_id": "16ttYeMybwqT4xiGrWrurqnQ1XZvSpIVn",
      "authorship_tag": "ABX9TyNDHfjuwBHF7XV6lrmOBRbc",
      "include_colab_link": true
    },
    "kernelspec": {
      "name": "python3",
      "display_name": "Python 3"
    },
    "language_info": {
      "name": "python"
    }
  },
  "cells": [
    {
      "cell_type": "markdown",
      "metadata": {
        "id": "view-in-github",
        "colab_type": "text"
      },
      "source": [
        "<a href=\"https://colab.research.google.com/github/elifcecen/hu-bby162-2021/blob/main/final_.ipynb\" target=\"_parent\"><img src=\"https://colab.research.google.com/assets/colab-badge.svg\" alt=\"Open In Colab\"/></a>"
      ]
    },
    {
      "cell_type": "markdown",
      "metadata": {
        "id": "NO7LlqyVqFoU"
      },
      "source": [
        "BBY162 Programlama ve Algoritmalar Final Proje Görevi\n"
      ]
    },
    {
      "cell_type": "code",
      "metadata": {
        "colab": {
          "base_uri": "https://localhost:8080/"
        },
        "id": "cZUqHgASzE3F",
        "outputId": "8241d0ea-ed78-49d6-bc43-fd55f3b353dd"
      },
      "source": [
        " \n",
        "print(\" Kütüphanemize Hoş Geldiniz!!!\")\n",
        "dosya = \"/content/drive/MyDrive/final.txt\"\n",
        " \n",
        "def eserListele():\n",
        "  f = open(dosya, 'r')\n",
        "  for line in f.readlines():\n",
        "    print(line)\n",
        "  f.close()\n",
        "def eserKayıt():\n",
        "  print(\"Lütfen kaydını gerçekleştireceğiniz bilgilerin doğruluğundan emin olun!!\")\n",
        "  eserAdi = input(\"Eser adını giriniz: \")\n",
        "  yazarAdi = input(\"Yazar adını giriniz: \")\n",
        "  Yayinevi = input(\"Yayınevini giriniz: \")\n",
        "  basımTarihi = input(\"Basım tarihini giriniz: \")\n",
        "  ISBN = input(\"ISBN no giriniz: \")\n",
        "  f = open(dosya, 'a' )\n",
        "  f.write(eserAdi + \" / \" + yazarAdi + \" / \" + Yayinevi + \" / \"  + basımTarihi + \" / \"  + ISBN + '\\n')\n",
        "  print(\"Kayıt işleminiz başarıyla gerçekleştirilmiştir.\")\n",
        "  f.close()\n",
        "  \n",
        "islemSecme = [\"görüntüle\", \"ekle\", \"sonlandır\"]\n",
        "while islemSecme:\n",
        "  secilenislem = input(\"Eser listesini görüntülemek için 'görüntüle' yazınız. \\n\" \n",
        "      \"Yeni eser kaydetmek için 'ekle' yazınız.\\n\"     \n",
        "      \"Sistemden çıkmak için 'sonlandır' yazınız.\\n\"\n",
        "      \"İşleminizi tanımlayan kelimeyi giriniz: \")\n",
        "  if secilenislem == islemSecme[0]:\n",
        "    eserListele()\n",
        "  elif secilenislem == islemSecme[1]:\n",
        "      eserKayıt()\n",
        "  elif secilenislem == islemSecme [2]:\n",
        "        print(\"Sistemden çıkılıyor...\")\n",
        "        break\n",
        "print(\"işleminiz başarıyla gerçekleşti..\")\n",
        "print(\"Ziyaretiniz için teşekkür ederiz..\")"
      ],
      "execution_count": 20,
      "outputs": [
        {
          "output_type": "stream",
          "text": [
            " Kütüphanemize Hoş Geldiniz!!!\n",
            "Eser listesini görüntülemek için 'görüntüle' yazınız. \n",
            "Yeni eser kaydetmek için 'ekle' yazınız.\n",
            "Sistemden çıkmak için 'sonlandır' yazınız.\n",
            "İşleminizi tanımlayan kelimeyi giriniz: ekle\n",
            "Lütfen kaydını gerçekleştireceğiniz bilgilerin doğruluğundan emin olun!!\n",
            "Eser adını giriniz: Suç ve Ceza\n",
            "Yazar adını giriniz: Fyodor Dostoyevski\n",
            "Yayınevini giriniz: Papatya Yayınları\n",
            "Basım tarihini giriniz: 1995\n",
            "ISBN no giriniz: 327-980-890\n",
            "Kayıt işleminiz başarıyla gerçekleştirilmiştir.\n",
            "Eser listesini görüntülemek için 'görüntüle' yazınız. \n",
            "Yeni eser kaydetmek için 'ekle' yazınız.\n",
            "Sistemden çıkmak için 'sonlandır' yazınız.\n",
            "İşleminizi tanımlayan kelimeyi giriniz: görüntüle\n",
            "Namık Kemal / İhsan Dinç / Papatya Yayınları / 2000 / 978-975-282-001-2 \n",
            "\n",
            "Hayatım / Mert Şahin / Can Yayınları / 1956 / 478930\n",
            "\n",
            "Körlük / José Saramago  / İş Bankası Yayınları / 2007 / 57392\n",
            "\n",
            "Şeker Portakalı / José Mauro de Vasconcelos / Can Yayınları / 1955 / 789-354-709\n",
            "\n",
            "Vadideki Zambak / Honoré de Balzac / Yapı Kredi Yayınları / 1999 / 735103670\n",
            "\n",
            "Suç ve Ceza / Fyodor Dostoyevski / Papatya Yayınları / 1995 / 327-980-890\n",
            "\n",
            "Eser listesini görüntülemek için 'görüntüle' yazınız. \n",
            "Yeni eser kaydetmek için 'ekle' yazınız.\n",
            "Sistemden çıkmak için 'sonlandır' yazınız.\n",
            "İşleminizi tanımlayan kelimeyi giriniz: sonlandır\n",
            "Sistemden çıkılıyor...\n",
            "işleminiz başarıyla gerçekleşti..\n",
            "Ziyaretiniz için teşekkür ederiz..\n"
          ],
          "name": "stdout"
        }
      ]
    }
  ]
}